{
  "nbformat": 4,
  "nbformat_minor": 0,
  "metadata": {
    "colab": {
      "provenance": [],
      "collapsed_sections": []
    },
    "kernelspec": {
      "name": "python3",
      "display_name": "Python 3"
    }
  },
  "cells": [
    {
      "metadata": {
        "id": "lwe_hsV9ul8L"
      },
      "cell_type": "markdown",
      "source": [
        "## Lesson 0.0: Hello World\n",
        "\n",
        "One of the most basic programs that is always written first is called **Hello World**\n",
        "\n",
        "1. Click on this cell. This cell will highlight.\n",
        "1. Click the \"+ CODE\" button in the header. This will create a cell in the next line.\n",
        "    - optional: keyboard shortcut: **`CMD+M B`**\n",
        "\n",
        "1. In this cell, enter:\n",
        "\n",
        "> ```python\n",
        "> # Your name\n",
        "> print( \"Hello world!\" )\n",
        "> ```\n",
        "\n",
        "4. Click on the \"play\" button to the left of the cell. The first time you run a cell in a colab notebook it might take as long as 10-20 seconds to finish. After that, it's a lot faster.\n",
        "    * optional: keyboard shortcut: `SHIFT+ENTER`\n",
        "    \n",
        "-----------\n"
      ]
    },
    {
      "metadata": {
        "id": "9gjzPjQWF0mm",
        "colab": {
          "base_uri": "https://localhost:8080/"
        },
        "outputId": "0020cfac-1830-4cae-b4ae-b37d1767f26f"
      },
      "cell_type": "code",
      "source": [
        "print('Hello World!')"
      ],
      "execution_count": null,
      "outputs": [
        {
          "output_type": "stream",
          "name": "stdout",
          "text": [
            "Hello World!\n"
          ]
        }
      ]
    },
    {
      "metadata": {
        "id": "NCcCHHCzgSQX"
      },
      "cell_type": "markdown",
      "source": [
        "### Note\n",
        "\n",
        "In Python, anything after the `#` sign is _not executed_. These are called \"comments\". Lines that start with `#`are  ignored by the Python interpreter and plays no role in the computer program. It's just there as a note to humans reading the code."
      ]
    },
    {
      "metadata": {
        "id": "_tExYlfHx_L1"
      },
      "cell_type": "markdown",
      "source": [
        "## Lesson 0.1: Hello World, Simplified\n",
        "\n",
        "The last statement to evaluate in the cell is automatically printed. So, the `print` statement is redundant.\n",
        "\n",
        "1. Click on this cell. This cell will highlight.\n",
        "1. Click the \"+ CODE\" button in the header. This will create a cell in the next line.\n",
        "1. In this cell, enter:\n",
        "\n",
        "> ```python\n",
        "> # YOUR NAME HERE\n",
        "> \"Hello world!\"\n",
        "> ```\n",
        "\n",
        "----------"
      ]
    },
    {
      "metadata": {
        "id": "RP5M3YvIMzRP",
        "colab": {
          "base_uri": "https://localhost:8080/",
          "height": 35
        },
        "outputId": "14eadf73-630f-4441-9a9c-6aca351e13ab"
      },
      "cell_type": "code",
      "source": [
        "\"Hello world!\""
      ],
      "execution_count": null,
      "outputs": [
        {
          "output_type": "execute_result",
          "data": {
            "text/plain": [
              "'Hello world!'"
            ],
            "application/vnd.google.colaboratory.intrinsic+json": {
              "type": "string"
            }
          },
          "metadata": {},
          "execution_count": 3
        }
      ]
    },
    {
      "metadata": {
        "id": "esHycXYvppGK"
      },
      "cell_type": "markdown",
      "source": [
        "### What's the difference?\n",
        "\n",
        "The  `print(x)` function writes the result of `str(x)` to the standard output. In a jupyter notebook, everything written to `stdout` is printed directy below the code cell.\n",
        "\n"
      ]
    },
    {
      "metadata": {
        "id": "ZKTAIvqXq3W1",
        "colab": {
          "base_uri": "https://localhost:8080/"
        },
        "outputId": "252e7b18-9496-43c4-e346-7d3ceff9e8cd"
      },
      "cell_type": "code",
      "source": [
        "# Here we write a value to stdout, which is the same thing as print().\n",
        "\n",
        "import sys\n",
        "\n",
        "sys.stdout.write( \"Hello, standard out!\\n\" )\n",
        "print( \"Hello, print!\" )"
      ],
      "execution_count": null,
      "outputs": [
        {
          "output_type": "stream",
          "name": "stdout",
          "text": [
            "Hello, standard out!\n",
            "Hello, print!\n"
          ]
        }
      ]
    },
    {
      "metadata": {
        "id": "ISIZj7Dd9RyR",
        "colab": {
          "base_uri": "https://localhost:8080/",
          "height": 35
        },
        "outputId": "7faceb25-d93f-44f5-b092-eb0bb478395c"
      },
      "cell_type": "code",
      "source": [
        "\"Hello, Jupyter cell!\""
      ],
      "execution_count": null,
      "outputs": [
        {
          "output_type": "execute_result",
          "data": {
            "text/plain": [
              "'Hello, Jupyter cell!'"
            ]
          },
          "metadata": {
            "tags": []
          },
          "execution_count": 6
        }
      ]
    },
    {
      "metadata": {
        "id": "bOIFe-YezZVG"
      },
      "cell_type": "markdown",
      "source": [
        "## Lesson 0.2: More than text\n",
        "\n",
        "When a cell is executed, a text value of the result of the last line is always printed.\n",
        "\n",
        "1. Create a cell and enter this:\n",
        "\n",
        "> ```python\n",
        "> # YOUR NAME HERE\n",
        "> a = YOUR OWN NUMBER\n",
        "> a\n",
        "> ```\n",
        "\n",
        "2. Run it.\n",
        "\n",
        "_Technially_: The string result of `repr(LAST_EXPRESSION)` is printed  below a cell after it's executed.\n",
        "\n",
        "--------\n",
        "\n"
      ]
    },
    {
      "metadata": {
        "id": "0XtDGPqXM7ZK",
        "colab": {
          "base_uri": "https://localhost:8080/"
        },
        "outputId": "586a741d-d478-42e1-8e2f-1efcb9f74eed"
      },
      "cell_type": "code",
      "source": [
        "a = 42\n",
        "print(a)"
      ],
      "execution_count": null,
      "outputs": [
        {
          "output_type": "stream",
          "name": "stdout",
          "text": [
            "42\n"
          ]
        }
      ]
    },
    {
      "metadata": {
        "id": "q1KrEehynMej"
      },
      "cell_type": "markdown",
      "source": [
        "# 1.0 Intro to Python\n",
        "\n",
        "Let's jump right in.\n",
        "\n",
        "A Python program is a series of expressions and statements. Don't worry about the specifics, but very roughly:\n",
        "\n",
        "* A **statement** is like a **verb**. It **does** something.\n",
        "* An **expression** is like a **noun**. It **is** something.\n",
        "\n",
        "The simplest Python program is a single expression, and the simplest expression is a number.\n",
        "\n",
        "Open up a code cell, type a number, and execute the cell."
      ]
    },
    {
      "metadata": {
        "id": "0yMwk0ahnPi-",
        "colab": {
          "base_uri": "https://localhost:8080/"
        },
        "outputId": "7ccad67f-c71b-4e8b-a917-4abaf5674a62"
      },
      "cell_type": "code",
      "source": [
        "# Statement\n",
        "49"
      ],
      "execution_count": null,
      "outputs": [
        {
          "output_type": "execute_result",
          "data": {
            "text/plain": [
              "49"
            ]
          },
          "metadata": {},
          "execution_count": 6
        }
      ]
    },
    {
      "metadata": {
        "id": "XFz48qheo0JJ"
      },
      "cell_type": "code",
      "source": [
        "# Expression\n",
        "a = 49"
      ],
      "execution_count": null,
      "outputs": []
    },
    {
      "metadata": {
        "id": "8QUbJa3qo24H",
        "colab": {
          "base_uri": "https://localhost:8080/"
        },
        "outputId": "bf286a64-abeb-4cee-87c3-4d84031b867b"
      },
      "cell_type": "code",
      "source": [
        "print(a)"
      ],
      "execution_count": null,
      "outputs": [
        {
          "output_type": "stream",
          "name": "stdout",
          "text": [
            "49\n"
          ]
        }
      ]
    },
    {
      "metadata": {
        "id": "kwXBXpCpo76h"
      },
      "cell_type": "markdown",
      "source": [
        "##  1.10 Literal Expressions"
      ]
    },
    {
      "metadata": {
        "id": "bLeQUYjqo_CN"
      },
      "cell_type": "markdown",
      "source": [
        "An expression which expresses a single value is called a **literal**. A literal has a **type**. The above literal is an **integer**.\n",
        "\n",
        "Python has several numeric types.\n",
        "\n",
        "Here's a floating point number:\n"
      ]
    },
    {
      "metadata": {
        "id": "UWdWsE8Do3Sr",
        "colab": {
          "base_uri": "https://localhost:8080/"
        },
        "outputId": "37654aab-acff-4fb8-f229-174f43540ead"
      },
      "cell_type": "code",
      "source": [
        "# Floating Point Number\n",
        "4.52324"
      ],
      "execution_count": null,
      "outputs": [
        {
          "output_type": "execute_result",
          "data": {
            "text/plain": [
              "4.52324"
            ]
          },
          "metadata": {},
          "execution_count": 9
        }
      ]
    },
    {
      "metadata": {
        "id": "c6lAqEdipHn-"
      },
      "cell_type": "markdown",
      "source": [
        "#### 1.11 Complex Numbers"
      ]
    },
    {
      "metadata": {
        "id": "sfLlciclpEL4",
        "colab": {
          "base_uri": "https://localhost:8080/"
        },
        "outputId": "f5ddca93-e5b8-41be-cc0b-511f880e4f34"
      },
      "cell_type": "code",
      "source": [
        "# Complex Number\n",
        "complex(1, 5)"
      ],
      "execution_count": null,
      "outputs": [
        {
          "output_type": "execute_result",
          "data": {
            "text/plain": [
              "(1+5j)"
            ]
          },
          "metadata": {},
          "execution_count": 10
        }
      ]
    },
    {
      "metadata": {
        "id": "pEkW1GR3pOdv"
      },
      "cell_type": "markdown",
      "source": [
        "As I mentioned before, literals have types. In fact - the result of _all_ expressions have a type. You can check the type of an expression with the `type` function.\n",
        "\n",
        "```python\n",
        "type(EXPRESSION)\n",
        "```\n",
        "\n",
        "Try it out."
      ]
    },
    {
      "metadata": {
        "id": "81WsB93lpJ0O",
        "colab": {
          "base_uri": "https://localhost:8080/"
        },
        "outputId": "8a190e1f-4769-4398-d8fd-71b67320d4da"
      },
      "cell_type": "code",
      "source": [
        "type(5)"
      ],
      "execution_count": null,
      "outputs": [
        {
          "output_type": "execute_result",
          "data": {
            "text/plain": [
              "int"
            ]
          },
          "metadata": {},
          "execution_count": 11
        }
      ]
    },
    {
      "metadata": {
        "id": "TNg3xLVZpQZo",
        "colab": {
          "base_uri": "https://localhost:8080/"
        },
        "outputId": "1cdb1449-0bd7-4cbc-b7d0-7373a445b3f7"
      },
      "cell_type": "code",
      "source": [
        "a = 5\n",
        "type(a)"
      ],
      "execution_count": null,
      "outputs": [
        {
          "output_type": "execute_result",
          "data": {
            "text/plain": [
              "int"
            ]
          },
          "metadata": {},
          "execution_count": 12
        }
      ]
    },
    {
      "metadata": {
        "id": "hOQVuxjGpSLO",
        "colab": {
          "base_uri": "https://localhost:8080/"
        },
        "outputId": "e803c0ba-8fd3-4ba5-96a9-87596cf84a02"
      },
      "cell_type": "code",
      "source": [
        "a = 5.2\n",
        "type(a)"
      ],
      "execution_count": null,
      "outputs": [
        {
          "output_type": "execute_result",
          "data": {
            "text/plain": [
              "float"
            ]
          },
          "metadata": {},
          "execution_count": 13
        }
      ]
    },
    {
      "metadata": {
        "id": "XWFdBTAQpUHl",
        "colab": {
          "base_uri": "https://localhost:8080/"
        },
        "outputId": "15ed47be-836b-42c7-fb27-fdaf764b40b8"
      },
      "cell_type": "code",
      "source": [
        "type(complex(4, 3))"
      ],
      "execution_count": null,
      "outputs": [
        {
          "output_type": "execute_result",
          "data": {
            "text/plain": [
              "complex"
            ]
          },
          "metadata": {},
          "execution_count": 14
        }
      ]
    },
    {
      "cell_type": "markdown",
      "source": [
        "# Swapping the values of two variables\n",
        "\n",
        "\n"
      ],
      "metadata": {
        "id": "1AGkQneeBF-q"
      }
    },
    {
      "cell_type": "code",
      "source": [
        "a=5\n",
        "b=10\n",
        "c=0\n",
        "\n",
        "c=a\n",
        "a=b\n",
        "b=c"
      ],
      "metadata": {
        "id": "rE3mU4enBx1m"
      },
      "execution_count": null,
      "outputs": []
    },
    {
      "cell_type": "code",
      "source": [
        "b"
      ],
      "metadata": {
        "colab": {
          "base_uri": "https://localhost:8080/"
        },
        "id": "zT6jpOpBB3DK",
        "outputId": "b629908d-e007-498d-cad2-b39d749435b9"
      },
      "execution_count": null,
      "outputs": [
        {
          "output_type": "execute_result",
          "data": {
            "text/plain": [
              "5"
            ]
          },
          "metadata": {},
          "execution_count": 17
        }
      ]
    },
    {
      "cell_type": "code",
      "source": [
        "a"
      ],
      "metadata": {
        "colab": {
          "base_uri": "https://localhost:8080/"
        },
        "id": "M8DiQWmaB5ql",
        "outputId": "eaab1551-775f-466a-fc68-262fbc102885"
      },
      "execution_count": null,
      "outputs": [
        {
          "output_type": "execute_result",
          "data": {
            "text/plain": [
              "10"
            ]
          },
          "metadata": {},
          "execution_count": 18
        }
      ]
    },
    {
      "metadata": {
        "id": "Zb8IYOjBqLLz"
      },
      "cell_type": "markdown",
      "source": [
        "## 1.20 Arithmetic Expressions\n",
        "\n",
        "Python provides several simple arithmetic expressions for use with numeric literals.\n",
        "\n",
        "* `+` addition\n",
        "* `-` subtraction\n",
        "* `*` multiplication\n",
        "* `/` division\n",
        "* `**` exponentiation\n",
        "\n",
        "### 1.21 Other types of arithmetic expressions:\n",
        "\n",
        "* `//` floor division\n",
        "* `%` Modulo\n"
      ]
    },
    {
      "metadata": {
        "id": "Z1krVv0pqICJ",
        "colab": {
          "base_uri": "https://localhost:8080/"
        },
        "outputId": "7e45896b-af4d-4c1d-e4ef-9605fe997762"
      },
      "cell_type": "code",
      "source": [
        "# Examples \n",
        "\n",
        "# Addition\n",
        "a = 10\n",
        "print(a + 2)"
      ],
      "execution_count": null,
      "outputs": [
        {
          "output_type": "stream",
          "name": "stdout",
          "text": [
            "12\n"
          ]
        }
      ]
    },
    {
      "metadata": {
        "id": "cfHsOkipkabq",
        "colab": {
          "base_uri": "https://localhost:8080/",
          "height": 35
        },
        "outputId": "6399fbc6-3fe9-4f00-d720-ec307f9dfb34"
      },
      "cell_type": "code",
      "source": [
        "# Subtraction\n",
        "print(a - 2)"
      ],
      "execution_count": null,
      "outputs": [
        {
          "output_type": "stream",
          "text": [
            "8\n"
          ],
          "name": "stdout"
        }
      ]
    },
    {
      "metadata": {
        "id": "_njiEMPTkkAR",
        "colab": {
          "base_uri": "https://localhost:8080/",
          "height": 35
        },
        "outputId": "19a9671f-dc36-4229-f26a-1c2da3e6c8bd"
      },
      "cell_type": "code",
      "source": [
        "# Multiplication\n",
        "print(a * 2)"
      ],
      "execution_count": null,
      "outputs": [
        {
          "output_type": "stream",
          "text": [
            "20\n"
          ],
          "name": "stdout"
        }
      ]
    },
    {
      "metadata": {
        "id": "AUrr9XkUkm4Z",
        "colab": {
          "base_uri": "https://localhost:8080/",
          "height": 35
        },
        "outputId": "6ef6cd1f-51ed-40fd-fe79-817f0363e762"
      },
      "cell_type": "code",
      "source": [
        "# Division\n",
        "print(a/2)"
      ],
      "execution_count": null,
      "outputs": [
        {
          "output_type": "stream",
          "text": [
            "5.0\n"
          ],
          "name": "stdout"
        }
      ]
    },
    {
      "metadata": {
        "id": "5GNPXbJjko66",
        "colab": {
          "base_uri": "https://localhost:8080/",
          "height": 35
        },
        "outputId": "4f1e0205-3d89-4dab-db42-b86540234a81"
      },
      "cell_type": "code",
      "source": [
        "# Exponentiation\n",
        "a = 5\n",
        "b = 2\n",
        "print(a ** b)"
      ],
      "execution_count": null,
      "outputs": [
        {
          "output_type": "stream",
          "text": [
            "25\n"
          ],
          "name": "stdout"
        }
      ]
    },
    {
      "cell_type": "markdown",
      "source": [
        "Concatenation in Python"
      ],
      "metadata": {
        "id": "0U2Bo8dTCPov"
      }
    },
    {
      "cell_type": "code",
      "source": [
        "x=\"Hello\"\n",
        "y=\"Python\"\n",
        "z=\"World\"\n",
        "con=x+y+z\n",
        "print(con)\n",
        "con=x+' '+y+' '+z\n",
        "print(con)"
      ],
      "metadata": {
        "colab": {
          "base_uri": "https://localhost:8080/"
        },
        "id": "-5Iq0PpACdRE",
        "outputId": "f109efc6-6a92-4e63-cd8b-501ad2ab1efe"
      },
      "execution_count": null,
      "outputs": [
        {
          "output_type": "stream",
          "name": "stdout",
          "text": [
            "HelloPythonWorld\n",
            "Hello Python World\n"
          ]
        }
      ]
    },
    {
      "cell_type": "code",
      "source": [
        "x=5\n",
        "y=\"candies\"\n",
        "z=str(x)+' '+y\n",
        "print(z)"
      ],
      "metadata": {
        "colab": {
          "base_uri": "https://localhost:8080/"
        },
        "id": "UFSy6w4eC_fZ",
        "outputId": "fb73ae09-af3d-4eba-d59b-84184f943ca0"
      },
      "execution_count": null,
      "outputs": [
        {
          "output_type": "stream",
          "name": "stdout",
          "text": [
            "5 candies\n"
          ]
        }
      ]
    },
    {
      "metadata": {
        "id": "q-7Z5-qrlBzu"
      },
      "cell_type": "markdown",
      "source": [
        "Questions: \n",
        "\n",
        "1. What is Floor division?\n",
        "2. What is Modulo"
      ]
    },
    {
      "metadata": {
        "id": "Qq26gfHOlLkW",
        "colab": {
          "base_uri": "https://localhost:8080/",
          "height": 35
        },
        "outputId": "ae2307af-f139-4f12-f7ba-95e6e99252d9"
      },
      "cell_type": "code",
      "source": [
        "#Floor Division\n",
        "print(17 // 8)"
      ],
      "execution_count": null,
      "outputs": [
        {
          "output_type": "stream",
          "text": [
            "2\n"
          ],
          "name": "stdout"
        }
      ]
    },
    {
      "metadata": {
        "id": "syjyP9H1lWZk",
        "colab": {
          "base_uri": "https://localhost:8080/",
          "height": 35
        },
        "outputId": "935820e0-8688-4d9b-8704-7e8e7f368652"
      },
      "cell_type": "code",
      "source": [
        "# Modulo\n",
        "print(17 % 9)"
      ],
      "execution_count": null,
      "outputs": [
        {
          "output_type": "stream",
          "text": [
            "8\n"
          ],
          "name": "stdout"
        }
      ]
    },
    {
      "metadata": {
        "id": "tjx-qpZIqkbV"
      },
      "cell_type": "markdown",
      "source": [
        "## 1.30 Variable Expressions\n",
        "\n",
        "Python provides a way to name values called **variables**. You're probably used to variables from algebra, where they're used to store numbers.\n",
        "\n",
        "$$ x_i = 15.4 $$\n",
        "\n",
        "In Python, variables are declared with an **assignment statement**, which simultaneously creates the variable and assigns it a value. This is accomplished with the **assignment operator** `=`, like this:\n",
        "\n",
        "```python\n",
        "VARIABLE = VALUE_EXPRESSION\n",
        "```\n",
        "\n",
        "For example, here we create a value `a` and assign it the float-typed value `1969.2121`."
      ]
    },
    {
      "metadata": {
        "id": "MqJqXYM_qkzx",
        "colab": {
          "base_uri": "https://localhost:8080/",
          "height": 35
        },
        "outputId": "2d680f6e-95bc-4b16-f0ca-41d0e8ddd44b"
      },
      "cell_type": "code",
      "source": [
        "a = 1969.2121\n",
        "b = 10\n",
        "c = a + b\n",
        "print(c)"
      ],
      "execution_count": null,
      "outputs": [
        {
          "output_type": "stream",
          "text": [
            "1979.2121\n"
          ],
          "name": "stdout"
        }
      ]
    },
    {
      "metadata": {
        "id": "3L84GS1GrFpT"
      },
      "cell_type": "markdown",
      "source": [
        "**Note** the assignment operator `=` is pronounced \"gets\", _not_ \"equals\". The statement `a = 12` is pronounced \"ay gets twelve\".\n",
        "\n",
        "\n",
        "#### 1.31 Code readability \n",
        "\n",
        "The use of descriptive variable names is an important part of writing readable code. The convention in python is to use one to threeish lower-case words joined using an underscore. For example:\n",
        "\n",
        "`birthday`\n",
        "\n",
        "or\n",
        "\n",
        "`party_date`\n",
        "\n",
        "In some cases convention allows for shorter variable names. `i` is a conventional name for a loop counter, for instance."
      ]
    },
    {
      "metadata": {
        "id": "YVmYwQIUrQW0"
      },
      "cell_type": "markdown",
      "source": [
        "### Right-to-left execution\n",
        "\n",
        "If you try the following code, what do you think will happen?\n",
        "\n",
        "```python\n",
        "a = 7\n",
        "a = a*2\n",
        "print( a )\n",
        "```\n",
        "\n",
        "Try it out in your own notebook!\n"
      ]
    },
    {
      "metadata": {
        "id": "bvJnQ7-JrIz9",
        "colab": {
          "base_uri": "https://localhost:8080/",
          "height": 35
        },
        "outputId": "a02bdeec-a939-42f0-8c25-e2fa88a6997e"
      },
      "cell_type": "code",
      "source": [
        "a = 7\n",
        "a = a*2\n",
        "print( a )"
      ],
      "execution_count": null,
      "outputs": [
        {
          "output_type": "stream",
          "text": [
            "14\n"
          ],
          "name": "stdout"
        }
      ]
    },
    {
      "metadata": {
        "id": "mdwIPtugld3d",
        "colab": {
          "base_uri": "https://localhost:8080/",
          "height": 35
        },
        "outputId": "0267c3b9-2972-4088-ae74-eac91f7dc991"
      },
      "cell_type": "code",
      "source": [
        "# This is the same as above but with a different method\n",
        "a = 7\n",
        "a *= 2\n",
        "print( a )"
      ],
      "execution_count": null,
      "outputs": [
        {
          "output_type": "stream",
          "text": [
            "14\n"
          ],
          "name": "stdout"
        }
      ]
    },
    {
      "metadata": {
        "id": "NfgoMnR4rYND"
      },
      "cell_type": "markdown",
      "source": [
        "Against intuition, this actually works. This is because an assignment statement is evaluated **right to left**. First the expression on the right of the `=` is evaluated, and then the result is assigned to the variable on the left.\n",
        "\n",
        "Changing variables in this way occurs so commonly that there is built-in shorthand for it. The result of the first line could have been achieved with `x += 5`. This **syntactic sugar** is available for all the simple operations `+`, `-`, `*`, `/`, `**`, and `%` that we covered earlier."
      ]
    },
    {
      "cell_type": "markdown",
      "source": [
        "# Calculate average of 3 numbers"
      ],
      "metadata": {
        "id": "00Mw-ot4EyN3"
      }
    },
    {
      "cell_type": "code",
      "source": [
        "first_number = 4\n",
        "second_number = 7\n",
        "third_number = 8\n",
        "\n",
        "#write a general formula for 3 numbers\n",
        "average = (first_number +\n",
        "second_number + \n",
        "third_number) / 3\n",
        "\n",
        "print(average)"
      ],
      "metadata": {
        "colab": {
          "base_uri": "https://localhost:8080/"
        },
        "id": "7WWUnnBFE5G0",
        "outputId": "3c4e5ecd-c0c3-4c3e-9f23-60bb681eacce"
      },
      "execution_count": null,
      "outputs": [
        {
          "output_type": "stream",
          "name": "stdout",
          "text": [
            "6.333333333333333\n"
          ]
        }
      ]
    },
    {
      "metadata": {
        "id": "JdXMCt4Orst_"
      },
      "cell_type": "markdown",
      "source": [
        "## 1.4 Logic\n",
        "\n",
        "We can't write a program without the ability to make a _choice_, and the `if` statement provides this ability. The `if` statement provides a way to specify that a statement should only be executed _if a given condition expression evaluates to True_.\n",
        "\n",
        "The general syntax of an `if` statement in Python is:\n",
        "\n",
        "```python\n",
        "if condition:\n",
        "    if_block_statement\n",
        "```\n",
        "\n",
        "Notice how the `if` statement ends in a colon `:`. This is the way that Python declares the start of an indentation block."
      ]
    },
    {
      "metadata": {
        "id": "Yu_gBL12rymO",
        "colab": {
          "base_uri": "https://localhost:8080/",
          "height": 35
        },
        "outputId": "79bc8e6f-d86a-4d5d-a0f3-1e6cd17e905c"
      },
      "cell_type": "code",
      "source": [
        "# Example 1\n",
        "if True:\n",
        "  print(\"True!\")"
      ],
      "execution_count": null,
      "outputs": [
        {
          "output_type": "stream",
          "text": [
            "True!\n"
          ],
          "name": "stdout"
        }
      ]
    },
    {
      "metadata": {
        "id": "30Hbr9iHr17S"
      },
      "cell_type": "code",
      "source": [
        "# Example 2\n",
        "a = 3\n",
        "if a == 5:\n",
        "  print(a)\n",
        "  "
      ],
      "execution_count": null,
      "outputs": []
    },
    {
      "metadata": {
        "id": "tHrPweTQr7eH",
        "colab": {
          "base_uri": "https://localhost:8080/"
        },
        "outputId": "9ff538ed-6945-4e08-aa2c-2ce59a2c3a31"
      },
      "cell_type": "code",
      "source": [
        "# Example 3\n",
        "a = 3\n",
        "if a != 3:\n",
        "  print(\"false\")\n",
        "else:\n",
        "  print(\"true\")"
      ],
      "execution_count": null,
      "outputs": [
        {
          "output_type": "stream",
          "name": "stdout",
          "text": [
            "true\n"
          ]
        }
      ]
    },
    {
      "cell_type": "code",
      "source": [
        "num = 10\n",
        "\n",
        "if num > 0:\n",
        "    print(\"Positive number\")\n",
        "elif num == 0:\n",
        "    print(\"Zero\")\n",
        "else:\n",
        "    print(\"Negative number\")"
      ],
      "metadata": {
        "colab": {
          "base_uri": "https://localhost:8080/"
        },
        "id": "w-Y6Hz6-HJof",
        "outputId": "815cc8b6-3621-479e-85f6-c4e7c9c0bd68"
      },
      "execution_count": null,
      "outputs": [
        {
          "output_type": "stream",
          "name": "stdout",
          "text": [
            "Positive number\n"
          ]
        }
      ]
    },
    {
      "metadata": {
        "id": "ZIXhUrABjIZi"
      },
      "cell_type": "markdown",
      "source": [
        "###Logic with Functions\n",
        "\n",
        "We will explore this more later, but for now, I want to quickly introduce you to functions in python.  The syntax for a function is fairly simple, and the more you see it, the easier it will become.  \n",
        "\n",
        "1. Every function starts with a declaritive statement where you can pass the function arguments.  Once again, make sure that the function name represents what the function does\n",
        "\n",
        "2. Every function needs a return statement that can return nothing, or something useful."
      ]
    },
    {
      "metadata": {
        "id": "ubrsStU-r9Zx",
        "colab": {
          "base_uri": "https://localhost:8080/",
          "height": 35
        },
        "outputId": "a64fd031-fdce-4dd4-8277-8ac2da8a2516"
      },
      "cell_type": "code",
      "source": [
        "# Declare and name the function\n",
        "def add(a,b):\n",
        "  \n",
        "  # Add the two numbers and save as a new variable\n",
        "  c = a + b\n",
        "  \n",
        "  # Return the value c\n",
        "  return c\n",
        "\n",
        "# Call the function with a = 10, and b = 15\n",
        "add(10,15)"
      ],
      "execution_count": null,
      "outputs": [
        {
          "output_type": "execute_result",
          "data": {
            "text/plain": [
              "25"
            ]
          },
          "metadata": {
            "tags": []
          },
          "execution_count": 40
        }
      ]
    },
    {
      "metadata": {
        "id": "aOpRd9hNsHoq"
      },
      "cell_type": "markdown",
      "source": [
        "### Conditionals\n",
        "\n",
        "Let's tackle this one part at a time. What does it mean to be a condition? Really, all an `if` is checking is whether the conditional evaluates to `True` or `False`. If the condition is true, then the body of the `if` statement is executed. If the condition is false, the `if` block is skipped. Intuitively, true and false are concepts that make perfect sense to us. But we should take the time to clearly define them in a programming context here.\n"
      ]
    },
    {
      "metadata": {
        "id": "1kc7ChWlsIHL",
        "colab": {
          "base_uri": "https://localhost:8080/",
          "height": 35
        },
        "outputId": "03186adc-e3c5-4808-be60-fff3580eba01"
      },
      "cell_type": "code",
      "source": [
        "a = 3\n",
        "print(a != 3)"
      ],
      "execution_count": null,
      "outputs": [
        {
          "output_type": "stream",
          "text": [
            "False\n"
          ],
          "name": "stdout"
        }
      ]
    },
    {
      "metadata": {
        "id": "AR-yrYNCLAH-",
        "colab": {
          "base_uri": "https://localhost:8080/",
          "height": 35
        },
        "outputId": "a561bd2c-ace0-4582-9f87-ddba66a84e27"
      },
      "cell_type": "code",
      "source": [
        "def add_even(a,b):\n",
        "  \n",
        "  if a % 2 == 0:\n",
        "    \n",
        "    return a + b\n",
        "  else:\n",
        "    print('a is not even')\n",
        "    return None\n",
        "  \n",
        "add_even(12,3)"
      ],
      "execution_count": null,
      "outputs": [
        {
          "output_type": "execute_result",
          "data": {
            "text/plain": [
              "15"
            ]
          },
          "metadata": {
            "tags": []
          },
          "execution_count": 44
        }
      ]
    },
    {
      "cell_type": "markdown",
      "source": [
        "# Lists\n",
        "Lists are used to store multiple items in a single variable.\n",
        "\n",
        "Lists are one of 4 built-in data types in Python used to store collections of data, the other 3 are Tuple, Set, and Dictionary, all with different qualities and usage.\n",
        "Its a collection which is ordered and changeable. Allows duplicate members.\n",
        "Lists are created using square brackets:"
      ],
      "metadata": {
        "id": "6SrCMS-D8ZPF"
      }
    },
    {
      "cell_type": "code",
      "source": [
        "fruit = [\"apple\", \"banana\", \"cherry\"]\n",
        "print(fruit)"
      ],
      "metadata": {
        "colab": {
          "base_uri": "https://localhost:8080/"
        },
        "id": "LcUXWt378k_v",
        "outputId": "159df17b-91ee-4cef-e449-5b8a7a9ef87d"
      },
      "execution_count": null,
      "outputs": [
        {
          "output_type": "stream",
          "name": "stdout",
          "text": [
            "['apple', 'banana', 'cherry']\n"
          ]
        }
      ]
    },
    {
      "cell_type": "code",
      "source": [
        "#To determine how many items a list has, use the len() function:\n",
        "\n",
        "len(fruit)"
      ],
      "metadata": {
        "colab": {
          "base_uri": "https://localhost:8080/"
        },
        "id": "hdHe3AQz864w",
        "outputId": "8714deab-af60-4c57-daa2-183b8a071780"
      },
      "execution_count": null,
      "outputs": [
        {
          "output_type": "execute_result",
          "data": {
            "text/plain": [
              "3"
            ]
          },
          "metadata": {},
          "execution_count": 2
        }
      ]
    },
    {
      "cell_type": "code",
      "source": [
        "list1 = [1, 5, 7, 9, 3]\n",
        "list1"
      ],
      "metadata": {
        "colab": {
          "base_uri": "https://localhost:8080/"
        },
        "id": "83XtmM-OAX63",
        "outputId": "fefe892a-41c6-4f7d-98ff-ed43bdc97457"
      },
      "execution_count": null,
      "outputs": [
        {
          "output_type": "execute_result",
          "data": {
            "text/plain": [
              "[1, 5, 7, 9, 3]"
            ]
          },
          "metadata": {},
          "execution_count": 6
        }
      ]
    },
    {
      "cell_type": "code",
      "source": [
        "#different datatypes\n",
        "\n",
        "list2 = [\"abc\", 34, True, 40, \"male\"]\n",
        "list2"
      ],
      "metadata": {
        "colab": {
          "base_uri": "https://localhost:8080/"
        },
        "id": "tpOsOXxs9Ja7",
        "outputId": "4f9b6b74-d488-4cea-f297-3a8ec928c5f8"
      },
      "execution_count": null,
      "outputs": [
        {
          "output_type": "execute_result",
          "data": {
            "text/plain": [
              "['abc', 34, True, 40, 'male']"
            ]
          },
          "metadata": {},
          "execution_count": 7
        }
      ]
    },
    {
      "cell_type": "code",
      "source": [
        "#changeability\n",
        "\n",
        "list2[0]=\"xyz\"\n",
        "list2"
      ],
      "metadata": {
        "colab": {
          "base_uri": "https://localhost:8080/"
        },
        "id": "NsDPW6B_-vQN",
        "outputId": "99851180-ec66-4e9c-cba3-ea3bce3cddaa"
      },
      "execution_count": null,
      "outputs": [
        {
          "output_type": "execute_result",
          "data": {
            "text/plain": [
              "['xyz', 34, True, 40, 'male']"
            ]
          },
          "metadata": {},
          "execution_count": 8
        }
      ]
    },
    {
      "cell_type": "markdown",
      "source": [
        "# Tuples\n",
        "Tuples are used to store multiple items in a single variable.\n",
        "\n",
        "A tuple is a collection which is ordered and unchangeable.\n",
        "\n",
        "Tuples are written with round brackets."
      ],
      "metadata": {
        "id": "CwU8cUmvAqhv"
      }
    },
    {
      "cell_type": "code",
      "source": [
        "fruits = (\"apple\", \"cherry\",\"banana\")\n",
        "print(fruits)"
      ],
      "metadata": {
        "colab": {
          "base_uri": "https://localhost:8080/"
        },
        "id": "29qC0s3kBDbI",
        "outputId": "ecf6e7b0-73db-4df9-d344-2f86c9287c9f"
      },
      "execution_count": null,
      "outputs": [
        {
          "output_type": "stream",
          "name": "stdout",
          "text": [
            "('apple', 'cherry', 'banana')\n"
          ]
        }
      ]
    },
    {
      "cell_type": "code",
      "source": [
        "#allows duplicates\n",
        "\n",
        "thistuple = (\"apple\", \"banana\", \"cherry\", \"apple\", \"cherry\")\n",
        "print(thistuple)"
      ],
      "metadata": {
        "colab": {
          "base_uri": "https://localhost:8080/"
        },
        "id": "a2n9uCPqCKQH",
        "outputId": "6452ff30-d9de-4189-d9d2-5d7adbdc2d4d"
      },
      "execution_count": null,
      "outputs": [
        {
          "output_type": "stream",
          "name": "stdout",
          "text": [
            "('apple', 'banana', 'cherry', 'apple', 'cherry')\n"
          ]
        }
      ]
    },
    {
      "cell_type": "code",
      "source": [
        "#tupel length\n",
        "len(thistuple)"
      ],
      "metadata": {
        "colab": {
          "base_uri": "https://localhost:8080/"
        },
        "id": "pS5DMaJ3CS_d",
        "outputId": "e0038797-04ac-472c-a222-237cf02ffff5"
      },
      "execution_count": null,
      "outputs": [
        {
          "output_type": "execute_result",
          "data": {
            "text/plain": [
              "5"
            ]
          },
          "metadata": {},
          "execution_count": 12
        }
      ]
    },
    {
      "cell_type": "code",
      "source": [
        "#remeber the comma for single item tuple\n",
        "\n",
        "thistuple = (\"apple\",)\n",
        "print(type(thistuple))\n",
        "\n",
        "#NOT a tuple\n",
        "thistuple = (\"apple\")\n",
        "print(type(thistuple))"
      ],
      "metadata": {
        "colab": {
          "base_uri": "https://localhost:8080/"
        },
        "id": "XCqciOmZCpeZ",
        "outputId": "9c6d7f2e-c3b8-40b9-8d48-950a52320968"
      },
      "execution_count": null,
      "outputs": [
        {
          "output_type": "stream",
          "name": "stdout",
          "text": [
            "<class 'tuple'>\n",
            "<class 'str'>\n"
          ]
        }
      ]
    },
    {
      "cell_type": "code",
      "source": [
        "#different datatypes:\n",
        "tuple1 = (\"abc\", 34, True, 40, \"male\")\n",
        "tuple1"
      ],
      "metadata": {
        "colab": {
          "base_uri": "https://localhost:8080/"
        },
        "id": "9bSKFrROCzhf",
        "outputId": "cea4b28f-b970-4a46-c3ec-9486aa219e18"
      },
      "execution_count": null,
      "outputs": [
        {
          "output_type": "execute_result",
          "data": {
            "text/plain": [
              "('abc', 34, True, 40, 'male')"
            ]
          },
          "metadata": {},
          "execution_count": 15
        }
      ]
    },
    {
      "cell_type": "code",
      "source": [
        "#unchangeability\n",
        "\n",
        "tuple1[0]=\"xyz\"\n",
        "tuple1"
      ],
      "metadata": {
        "colab": {
          "base_uri": "https://localhost:8080/",
          "height": 183
        },
        "id": "cLxsIm4VNuN0",
        "outputId": "fcf38d84-7b94-44b5-9620-5ede787b09ab"
      },
      "execution_count": null,
      "outputs": [
        {
          "output_type": "error",
          "ename": "TypeError",
          "evalue": "ignored",
          "traceback": [
            "\u001b[0;31m---------------------------------------------------------------------------\u001b[0m",
            "\u001b[0;31mTypeError\u001b[0m                                 Traceback (most recent call last)",
            "\u001b[0;32m<ipython-input-25-dd5b7085efe0>\u001b[0m in \u001b[0;36m<module>\u001b[0;34m\u001b[0m\n\u001b[0;32m----> 1\u001b[0;31m \u001b[0mtuple1\u001b[0m\u001b[0;34m[\u001b[0m\u001b[0;36m0\u001b[0m\u001b[0;34m]\u001b[0m\u001b[0;34m=\u001b[0m\u001b[0;34m\"xyz\"\u001b[0m\u001b[0;34m\u001b[0m\u001b[0;34m\u001b[0m\u001b[0m\n\u001b[0m\u001b[1;32m      2\u001b[0m \u001b[0mtuple1\u001b[0m\u001b[0;34m\u001b[0m\u001b[0;34m\u001b[0m\u001b[0m\n",
            "\u001b[0;31mTypeError\u001b[0m: 'tuple' object does not support item assignment"
          ]
        }
      ]
    },
    {
      "cell_type": "markdown",
      "source": [
        "# Loops"
      ],
      "metadata": {
        "id": "hslmdQyUGch7"
      }
    },
    {
      "cell_type": "markdown",
      "source": [
        "A for loop can be used to access the elements in a list or other Python data structure one at a time. "
      ],
      "metadata": {
        "id": "ubhe7K_AHzDl"
      }
    },
    {
      "cell_type": "code",
      "source": [
        "#loop iterating a range of number\n",
        "\n",
        "for num in range(5):\n",
        "    print(num)\n"
      ],
      "metadata": {
        "colab": {
          "base_uri": "https://localhost:8080/"
        },
        "id": "FYLJZlX9H08O",
        "outputId": "a51af5a2-fb0b-4aad-9dc2-88e7e3a52789"
      },
      "execution_count": null,
      "outputs": [
        {
          "output_type": "stream",
          "name": "stdout",
          "text": [
            "0\n",
            "1\n",
            "2\n",
            "3\n",
            "4\n"
          ]
        }
      ]
    },
    {
      "cell_type": "code",
      "source": [
        "#loop iterating a string\n",
        "\n",
        "for x in \"banana\":\n",
        "  print(x) "
      ],
      "metadata": {
        "colab": {
          "base_uri": "https://localhost:8080/"
        },
        "id": "XLuLrvTLI8gm",
        "outputId": "23d6abc3-8374-4541-f18c-ac1a01804219"
      },
      "execution_count": null,
      "outputs": [
        {
          "output_type": "stream",
          "name": "stdout",
          "text": [
            "b\n",
            "a\n",
            "n\n",
            "a\n",
            "n\n",
            "a\n"
          ]
        }
      ]
    },
    {
      "cell_type": "code",
      "source": [
        "#loop for iterating over a list\n",
        "\n",
        "fruits = [\"apple\", \"banana\", \"cherry\"]\n",
        "for x in fruits:\n",
        "  print(x)"
      ],
      "metadata": {
        "colab": {
          "base_uri": "https://localhost:8080/"
        },
        "id": "MG2-ohJxI6pF",
        "outputId": "2a608f9d-17c0-48e2-e0d4-79e63afbfa91"
      },
      "execution_count": null,
      "outputs": [
        {
          "output_type": "stream",
          "name": "stdout",
          "text": [
            "apple\n",
            "banana\n",
            "cherry\n"
          ]
        }
      ]
    },
    {
      "cell_type": "code",
      "source": [
        "#use of break statememnt\n",
        "\n",
        "fruits = [\"apple\", \"banana\", \"cherry\"]\n",
        "for x in fruits:\n",
        "  print(x)\n",
        "  if x == \"banana\":\n",
        "    break"
      ],
      "metadata": {
        "colab": {
          "base_uri": "https://localhost:8080/"
        },
        "id": "sK51bfFCJdYu",
        "outputId": "f8152add-9f93-479f-d9aa-d942e5575eb7"
      },
      "execution_count": null,
      "outputs": [
        {
          "output_type": "stream",
          "name": "stdout",
          "text": [
            "apple\n",
            "banana\n"
          ]
        }
      ]
    },
    {
      "cell_type": "code",
      "source": [
        "#use of continue statement\n",
        "\n",
        "fruits = [\"apple\", \"banana\", \"cherry\"]\n",
        "for x in fruits:\n",
        "  if x == \"banana\":\n",
        "    continue\n",
        "  print(x)"
      ],
      "metadata": {
        "colab": {
          "base_uri": "https://localhost:8080/"
        },
        "id": "xp_AHUI5Jwdl",
        "outputId": "d57eedf3-755c-456a-d585-eda389960908"
      },
      "execution_count": null,
      "outputs": [
        {
          "output_type": "stream",
          "name": "stdout",
          "text": [
            "apple\n",
            "cherry\n"
          ]
        }
      ]
    }
  ]
}