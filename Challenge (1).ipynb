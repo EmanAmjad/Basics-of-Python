{
  "nbformat": 4,
  "nbformat_minor": 0,
  "metadata": {
    "colab": {
      "provenance": []
    },
    "kernelspec": {
      "name": "python3",
      "display_name": "Python 3"
    },
    "language_info": {
      "name": "python"
    }
  },
  "cells": [
    {
      "cell_type": "markdown",
      "source": [
        "# Create a function that takes the number of wins, draws and losses and calculates the number of points a football team has obtained so far. Check which is the overall winner w.r.t points.\n",
        "(wins get 3 points, draws get 1 point, losses get 0 points)\n",
        "\n",
        "Team 1: wins=3, draws=1, losses=3\n",
        "\n",
        "Team 2: wins=4, draws=0, losses=3\n"
      ],
      "metadata": {
        "id": "CTV5PFXEm7Yw"
      }
    },
    {
      "cell_type": "markdown",
      "source": [
        "First we will declare a function to calculate total points and declare its parameters.\n",
        "\n",
        "`football_points(wins, draws, losses)`\n",
        "\n",
        "Think of logic to compute total points.\n",
        "\n",
        "`total=(wins *3)+ (draws *1)+ (losses *0)`\n",
        "\n",
        "Then return that total\n",
        "\n",
        "`return total`\n"
      ],
      "metadata": {
        "id": "GsctjU7p0w3E"
      }
    },
    {
      "cell_type": "code",
      "source": [
        "def football_points(wins, draws, losses):\n",
        "  total=(wins*3)+(draws*1)+(losses*0)\n",
        "  return total\n",
        "\n",
        "team1=football_points(3,1,3)\n",
        "team1\n",
        "\n",
        "  "
      ],
      "metadata": {
        "colab": {
          "base_uri": "https://localhost:8080/"
        },
        "id": "uIJ40amd3VGq",
        "outputId": "c5c41b79-e928-4be8-f96d-5d5b6d592444"
      },
      "execution_count": 10,
      "outputs": [
        {
          "output_type": "execute_result",
          "data": {
            "text/plain": [
              "11"
            ]
          },
          "metadata": {},
          "execution_count": 10
        }
      ]
    },
    {
      "cell_type": "code",
      "source": [
        "team2=football_points(4,0,3)\n",
        "team2"
      ],
      "metadata": {
        "colab": {
          "base_uri": "https://localhost:8080/"
        },
        "id": "L-kk5wI25dwn",
        "outputId": "dab5117e-761b-47f4-e2cb-c3f9d02c3218"
      },
      "execution_count": 11,
      "outputs": [
        {
          "output_type": "execute_result",
          "data": {
            "text/plain": [
              "12"
            ]
          },
          "metadata": {},
          "execution_count": 11
        }
      ]
    },
    {
      "cell_type": "markdown",
      "source": [
        "Now check which team is the winner using if else statement"
      ],
      "metadata": {
        "id": "8lZ123Ox5pPe"
      }
    },
    {
      "cell_type": "code",
      "source": [
        "if team1>team2:\n",
        "  print(\"Team 1 is the Winner!\")\n",
        "else:\n",
        "  print(\"Team 2 is the Winner!\")"
      ],
      "metadata": {
        "colab": {
          "base_uri": "https://localhost:8080/"
        },
        "id": "EupOC0rr5v_E",
        "outputId": "d9ea4ecf-26ff-4089-e861-79abe4f6b548"
      },
      "execution_count": 14,
      "outputs": [
        {
          "output_type": "stream",
          "name": "stdout",
          "text": [
            "Team 2 is the Winner!\n"
          ]
        }
      ]
    },
    {
      "cell_type": "markdown",
      "source": [
        "# Iterate the given list of numbers and print only those numbers which are divisible by 5\n",
        "Output should be like\n",
        "\n",
        "Given list is  [10, 20, 33, 46, 55]\n",
        "\n",
        "Divisible by 5\n",
        "\n",
        "10\n",
        "\n",
        "20\n",
        "\n",
        "55"
      ],
      "metadata": {
        "id": "XZK6W8ji6o-R"
      }
    },
    {
      "cell_type": "markdown",
      "source": [
        "First make a list\n",
        "\n",
        "`num_list = [10, 20, 33, 46, 55]`\n",
        "\n",
        "Then print the list\n",
        "\n",
        "`print(\"Given list:\", num_list)`\n",
        "\n",
        "`print('Divisible by 5:')`\n",
        "\n",
        "Then use for loop to iterate the list\n",
        "\n",
        "`for num in num_list:`\n",
        "\n",
        "think of logic to calculate divisiblity by 5\n",
        "\n",
        "  `  if num % 5 == 0:`\n",
        "\n",
        "  print result\n",
        "\n",
        "       ` print(num)`"
      ],
      "metadata": {
        "id": "74zIYwVg6-oI"
      }
    },
    {
      "cell_type": "code",
      "source": [
        "num_list = [10, 20, 33, 46, 55]\n",
        "print(\"Given list:\", num_list)\n",
        "print('Divisible by 5:')\n",
        "for num in num_list:\n",
        "    if num % 5 == 0:\n",
        "        print(num)"
      ],
      "metadata": {
        "colab": {
          "base_uri": "https://localhost:8080/"
        },
        "id": "gfRQsQgG73qa",
        "outputId": "3876f4e8-3b50-494f-f0e5-cf8e14c5de2c"
      },
      "execution_count": 15,
      "outputs": [
        {
          "output_type": "stream",
          "name": "stdout",
          "text": [
            "Given list: [10, 20, 33, 46, 55]\n",
            "Divisible by 5:\n",
            "10\n",
            "20\n",
            "55\n"
          ]
        }
      ]
    },
    {
      "cell_type": "markdown",
      "source": [
        "# If you want to learn more about Python\n",
        "Course:\n",
        "\n",
        "Certification Link: https://www.kaggle.com/learn/python\n",
        "\n",
        "Basic Python Course: https://www.coursera.org/specializations/python \n",
        "\n",
        "Book:\n",
        "\n",
        "Learning Python\n",
        "Book by David Ascher and Mark Lutz\n",
        "\n"
      ],
      "metadata": {
        "id": "6iEHTcQOPrUm"
      }
    },
    {
      "cell_type": "markdown",
      "source": [
        "# Feel free to connect with us\n",
        "Eman Amjad\n",
        "\n",
        "https://www.linkedin.com/in/emanamjad/\n",
        "\n",
        "Muqaddas Fatima\n",
        "\n",
        "https://www.linkedin.com/in/muqaddasfatima/\n"
      ],
      "metadata": {
        "id": "Hg5ifFXrQgz7"
      }
    }
  ]
}